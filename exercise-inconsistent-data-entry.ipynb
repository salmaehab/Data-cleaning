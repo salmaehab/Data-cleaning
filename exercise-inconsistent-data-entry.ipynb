{
 "cells": [
  {
   "cell_type": "markdown",
   "id": "4f5f73a7",
   "metadata": {
    "papermill": {
     "duration": 0.020836,
     "end_time": "2022-04-09T17:37:54.384036",
     "exception": false,
     "start_time": "2022-04-09T17:37:54.363200",
     "status": "completed"
    },
    "tags": []
   },
   "source": [
    "**This notebook is an exercise in the [Data Cleaning](https://www.kaggle.com/learn/data-cleaning) course.  You can reference the tutorial at [this link](https://www.kaggle.com/alexisbcook/inconsistent-data-entry).**\n",
    "\n",
    "---\n"
   ]
  },
  {
   "cell_type": "markdown",
   "id": "890eb5de",
   "metadata": {
    "papermill": {
     "duration": 0.019308,
     "end_time": "2022-04-09T17:37:54.422773",
     "exception": false,
     "start_time": "2022-04-09T17:37:54.403465",
     "status": "completed"
    },
    "tags": []
   },
   "source": [
    "In this exercise, you'll apply what you learned in the **Inconsistent data entry** tutorial.\n",
    "\n",
    "# Setup\n",
    "\n",
    "The questions below will give you feedback on your work. Run the following cell to set up the feedback system."
   ]
  },
  {
   "cell_type": "code",
   "execution_count": 1,
   "id": "cbd19268",
   "metadata": {
    "execution": {
     "iopub.execute_input": "2022-04-09T17:37:54.468022Z",
     "iopub.status.busy": "2022-04-09T17:37:54.466127Z",
     "iopub.status.idle": "2022-04-09T17:37:54.575911Z",
     "shell.execute_reply": "2022-04-09T17:37:54.576474Z",
     "shell.execute_reply.started": "2022-04-09T17:34:34.513863Z"
    },
    "papermill": {
     "duration": 0.133786,
     "end_time": "2022-04-09T17:37:54.576825",
     "exception": false,
     "start_time": "2022-04-09T17:37:54.443039",
     "status": "completed"
    },
    "tags": []
   },
   "outputs": [
    {
     "name": "stdout",
     "output_type": "stream",
     "text": [
      "Setup Complete\n"
     ]
    }
   ],
   "source": [
    "from learntools.core import binder\n",
    "binder.bind(globals())\n",
    "from learntools.data_cleaning.ex5 import *\n",
    "print(\"Setup Complete\")"
   ]
  },
  {
   "cell_type": "markdown",
   "id": "a22d9bec",
   "metadata": {
    "papermill": {
     "duration": 0.019439,
     "end_time": "2022-04-09T17:37:54.615454",
     "exception": false,
     "start_time": "2022-04-09T17:37:54.596015",
     "status": "completed"
    },
    "tags": []
   },
   "source": [
    "# Get our environment set up\n",
    "\n",
    "The first thing we'll need to do is load in the libraries and dataset we'll be using.  We use the same dataset from the tutorial."
   ]
  },
  {
   "cell_type": "code",
   "execution_count": 2,
   "id": "4ef8c962",
   "metadata": {
    "execution": {
     "iopub.execute_input": "2022-04-09T17:37:54.659202Z",
     "iopub.status.busy": "2022-04-09T17:37:54.658390Z",
     "iopub.status.idle": "2022-04-09T17:37:54.676072Z",
     "shell.execute_reply": "2022-04-09T17:37:54.675273Z",
     "shell.execute_reply.started": "2022-04-09T17:34:41.028752Z"
    },
    "papermill": {
     "duration": 0.040493,
     "end_time": "2022-04-09T17:37:54.676233",
     "exception": false,
     "start_time": "2022-04-09T17:37:54.635740",
     "status": "completed"
    },
    "tags": []
   },
   "outputs": [],
   "source": [
    "# modules we'll use\n",
    "import pandas as pd\n",
    "import numpy as np\n",
    "\n",
    "# helpful modules\n",
    "import fuzzywuzzy\n",
    "from fuzzywuzzy import process\n",
    "import chardet\n",
    "\n",
    "# read in all our data\n",
    "professors = pd.read_csv(\"../input/pakistan-intellectual-capital/pakistan_intellectual_capital.csv\")\n",
    "\n",
    "# set seed for reproducibility\n",
    "np.random.seed(0)"
   ]
  },
  {
   "cell_type": "markdown",
   "id": "150b21fb",
   "metadata": {
    "papermill": {
     "duration": 0.018967,
     "end_time": "2022-04-09T17:37:54.715604",
     "exception": false,
     "start_time": "2022-04-09T17:37:54.696637",
     "status": "completed"
    },
    "tags": []
   },
   "source": [
    "Next, we'll redo all of the work that we did in the tutorial."
   ]
  },
  {
   "cell_type": "code",
   "execution_count": 3,
   "id": "e032fdb5",
   "metadata": {
    "execution": {
     "iopub.execute_input": "2022-04-09T17:37:54.772273Z",
     "iopub.status.busy": "2022-04-09T17:37:54.769979Z",
     "iopub.status.idle": "2022-04-09T17:37:54.775683Z",
     "shell.execute_reply": "2022-04-09T17:37:54.776547Z",
     "shell.execute_reply.started": "2022-04-09T17:34:43.2619Z"
    },
    "papermill": {
     "duration": 0.042418,
     "end_time": "2022-04-09T17:37:54.776810",
     "exception": false,
     "start_time": "2022-04-09T17:37:54.734392",
     "status": "completed"
    },
    "tags": []
   },
   "outputs": [
    {
     "name": "stdout",
     "output_type": "stream",
     "text": [
      "All done!\n"
     ]
    }
   ],
   "source": [
    "# convert to lower case\n",
    "professors['Country'] = professors['Country'].str.lower()\n",
    "# remove trailing white spaces\n",
    "professors['Country'] = professors['Country'].str.strip()\n",
    "\n",
    "# get the top 10 closest matches to \"south korea\"\n",
    "countries = professors['Country'].unique()\n",
    "matches = fuzzywuzzy.process.extract(\"south korea\", countries, limit=10, scorer=fuzzywuzzy.fuzz.token_sort_ratio)\n",
    "\n",
    "def replace_matches_in_column(df, column, string_to_match, min_ratio = 47):\n",
    "    # get a list of unique strings\n",
    "    strings = df[column].unique()\n",
    "    \n",
    "    # get the top 10 closest matches to our input string\n",
    "    matches = fuzzywuzzy.process.extract(string_to_match, strings, \n",
    "                                         limit=10, scorer=fuzzywuzzy.fuzz.token_sort_ratio)\n",
    "\n",
    "    # only get matches with a ratio > 90\n",
    "    close_matches = [matches[0] for matches in matches if matches[1] >= min_ratio]\n",
    "\n",
    "    # get the rows of all the close matches in our dataframe\n",
    "    rows_with_matches = df[column].isin(close_matches)\n",
    "\n",
    "    # replace all rows with close matches with the input matches \n",
    "    df.loc[rows_with_matches, column] = string_to_match\n",
    "    \n",
    "    # let us know the function's done\n",
    "    print(\"All done!\")\n",
    "    \n",
    "replace_matches_in_column(df=professors, column='Country', string_to_match=\"south korea\")\n",
    "countries = professors['Country'].unique()"
   ]
  },
  {
   "cell_type": "markdown",
   "id": "1c5895ee",
   "metadata": {
    "papermill": {
     "duration": 0.021449,
     "end_time": "2022-04-09T17:37:54.818364",
     "exception": false,
     "start_time": "2022-04-09T17:37:54.796915",
     "status": "completed"
    },
    "tags": []
   },
   "source": [
    "# 1) Examine another column\n",
    "\n",
    "Write code below to take a look at all the unique values in the \"Graduated from\" column."
   ]
  },
  {
   "cell_type": "code",
   "execution_count": 4,
   "id": "b869ef56",
   "metadata": {
    "execution": {
     "iopub.execute_input": "2022-04-09T17:37:54.867778Z",
     "iopub.status.busy": "2022-04-09T17:37:54.866980Z",
     "iopub.status.idle": "2022-04-09T17:37:54.871468Z",
     "shell.execute_reply": "2022-04-09T17:37:54.872071Z",
     "shell.execute_reply.started": "2022-04-09T17:34:56.428211Z"
    },
    "papermill": {
     "duration": 0.030012,
     "end_time": "2022-04-09T17:37:54.872277",
     "exception": false,
     "start_time": "2022-04-09T17:37:54.842265",
     "status": "completed"
    },
    "tags": []
   },
   "outputs": [],
   "source": [
    "# TODO: Your code here\n",
    "graduated_from = professors['Graduated from'].unique()"
   ]
  },
  {
   "cell_type": "markdown",
   "id": "048873c6",
   "metadata": {
    "papermill": {
     "duration": 0.022035,
     "end_time": "2022-04-09T17:37:54.915862",
     "exception": false,
     "start_time": "2022-04-09T17:37:54.893827",
     "status": "completed"
    },
    "tags": []
   },
   "source": [
    "Do you notice any inconsistencies in the data?  Can any of the inconsistencies in the data be fixed by removing white spaces at the beginning and end of cells?\n",
    "\n",
    "Once you have answered these questions, run the code cell below to get credit for your work."
   ]
  },
  {
   "cell_type": "code",
   "execution_count": 5,
   "id": "8ead11ff",
   "metadata": {
    "execution": {
     "iopub.execute_input": "2022-04-09T17:37:54.959466Z",
     "iopub.status.busy": "2022-04-09T17:37:54.958273Z",
     "iopub.status.idle": "2022-04-09T17:37:54.968372Z",
     "shell.execute_reply": "2022-04-09T17:37:54.968911Z",
     "shell.execute_reply.started": "2022-04-09T17:34:59.071286Z"
    },
    "papermill": {
     "duration": 0.033212,
     "end_time": "2022-04-09T17:37:54.969110",
     "exception": false,
     "start_time": "2022-04-09T17:37:54.935898",
     "status": "completed"
    },
    "tags": []
   },
   "outputs": [
    {
     "data": {
      "application/javascript": [
       "parent.postMessage({\"jupyterEvent\": \"custom.exercise_interaction\", \"data\": {\"outcomeType\": 1, \"valueTowardsCompletion\": 0.3333333333333333, \"interactionType\": 1, \"questionType\": 4, \"questionId\": \"1_ExamineProvince\", \"learnToolsVersion\": \"0.3.4\", \"failureMessage\": \"\", \"exceptionClass\": \"\", \"trace\": \"\"}}, \"*\")"
      ],
      "text/plain": [
       "<IPython.core.display.Javascript object>"
      ]
     },
     "metadata": {},
     "output_type": "display_data"
    },
    {
     "data": {
      "text/markdown": [
       "<span style=\"color:#33cc33\">Correct:</span> \n",
       "\n",
       "There are inconsistencies that can be fixed by removing white spaces at the beginning and end of cells.  For instance, \"University of Central Florida\" and \" University of Central Florida\" both appear in the column."
      ],
      "text/plain": [
       "Correct: \n",
       "\n",
       "There are inconsistencies that can be fixed by removing white spaces at the beginning and end of cells.  For instance, \"University of Central Florida\" and \" University of Central Florida\" both appear in the column."
      ]
     },
     "metadata": {},
     "output_type": "display_data"
    }
   ],
   "source": [
    "# Check your answer (Run this code cell to receive credit!)\n",
    "q1.check()"
   ]
  },
  {
   "cell_type": "code",
   "execution_count": 6,
   "id": "885b2630",
   "metadata": {
    "execution": {
     "iopub.execute_input": "2022-04-09T17:37:55.018189Z",
     "iopub.status.busy": "2022-04-09T17:37:55.017287Z",
     "iopub.status.idle": "2022-04-09T17:37:55.019032Z",
     "shell.execute_reply": "2022-04-09T17:37:55.019592Z"
    },
    "papermill": {
     "duration": 0.029167,
     "end_time": "2022-04-09T17:37:55.019800",
     "exception": false,
     "start_time": "2022-04-09T17:37:54.990633",
     "status": "completed"
    },
    "tags": []
   },
   "outputs": [],
   "source": [
    "# Line below will give you a hint\n",
    "#q1.hint()"
   ]
  },
  {
   "cell_type": "markdown",
   "id": "c37bd7af",
   "metadata": {
    "papermill": {
     "duration": 0.021888,
     "end_time": "2022-04-09T17:37:55.064073",
     "exception": false,
     "start_time": "2022-04-09T17:37:55.042185",
     "status": "completed"
    },
    "tags": []
   },
   "source": [
    "# 2) Do some text pre-processing\n",
    "\n",
    "Convert every entry in the \"Graduated from\" column in the `professors` DataFrame to remove white spaces at the beginning and end of cells."
   ]
  },
  {
   "cell_type": "code",
   "execution_count": 7,
   "id": "a54e1c88",
   "metadata": {
    "execution": {
     "iopub.execute_input": "2022-04-09T17:37:55.111763Z",
     "iopub.status.busy": "2022-04-09T17:37:55.110926Z",
     "iopub.status.idle": "2022-04-09T17:37:55.125745Z",
     "shell.execute_reply": "2022-04-09T17:37:55.124976Z",
     "shell.execute_reply.started": "2022-04-09T17:35:07.746103Z"
    },
    "papermill": {
     "duration": 0.040393,
     "end_time": "2022-04-09T17:37:55.125915",
     "exception": false,
     "start_time": "2022-04-09T17:37:55.085522",
     "status": "completed"
    },
    "tags": []
   },
   "outputs": [
    {
     "data": {
      "application/javascript": [
       "parent.postMessage({\"jupyterEvent\": \"custom.exercise_interaction\", \"data\": {\"outcomeType\": 1, \"valueTowardsCompletion\": 0.3333333333333333, \"interactionType\": 1, \"questionType\": 1, \"questionId\": \"2_TextProcessing\", \"learnToolsVersion\": \"0.3.4\", \"failureMessage\": \"\", \"exceptionClass\": \"\", \"trace\": \"\"}}, \"*\")"
      ],
      "text/plain": [
       "<IPython.core.display.Javascript object>"
      ]
     },
     "metadata": {},
     "output_type": "display_data"
    },
    {
     "data": {
      "text/markdown": [
       "<span style=\"color:#33cc33\">Correct</span>"
      ],
      "text/plain": [
       "Correct"
      ]
     },
     "metadata": {},
     "output_type": "display_data"
    }
   ],
   "source": [
    "# TODO: Your code here\n",
    "professors['Graduated from']=professors['Graduated from'].str.strip()\n",
    "\n",
    "# Check your answer\n",
    "q2.check()"
   ]
  },
  {
   "cell_type": "code",
   "execution_count": 8,
   "id": "398bc267",
   "metadata": {
    "execution": {
     "iopub.execute_input": "2022-04-09T17:37:55.177650Z",
     "iopub.status.busy": "2022-04-09T17:37:55.176815Z",
     "iopub.status.idle": "2022-04-09T17:37:55.180841Z",
     "shell.execute_reply": "2022-04-09T17:37:55.181468Z"
    },
    "papermill": {
     "duration": 0.032292,
     "end_time": "2022-04-09T17:37:55.181667",
     "exception": false,
     "start_time": "2022-04-09T17:37:55.149375",
     "status": "completed"
    },
    "tags": []
   },
   "outputs": [
    {
     "data": {
      "application/javascript": [
       "parent.postMessage({\"jupyterEvent\": \"custom.exercise_interaction\", \"data\": {\"interactionType\": 3, \"questionType\": 1, \"questionId\": \"2_TextProcessing\", \"learnToolsVersion\": \"0.3.4\", \"valueTowardsCompletion\": 0.0, \"failureMessage\": \"\", \"exceptionClass\": \"\", \"trace\": \"\", \"outcomeType\": 4}}, \"*\")"
      ],
      "text/plain": [
       "<IPython.core.display.Javascript object>"
      ]
     },
     "metadata": {},
     "output_type": "display_data"
    },
    {
     "data": {
      "text/markdown": [
       "<span style=\"color:#33cc99\">Solution:</span> \n",
       "```python\n",
       "professors['Graduated from'] = professors['Graduated from'].str.strip()\n",
       "\n",
       "```"
      ],
      "text/plain": [
       "Solution: \n",
       "```python\n",
       "professors['Graduated from'] = professors['Graduated from'].str.strip()\n",
       "\n",
       "```"
      ]
     },
     "metadata": {},
     "output_type": "display_data"
    }
   ],
   "source": [
    "# Lines below will give you a hint or solution code\n",
    "#q2.hint()\n",
    "q2.solution()"
   ]
  },
  {
   "cell_type": "markdown",
   "id": "a8dc3362",
   "metadata": {
    "papermill": {
     "duration": 0.02265,
     "end_time": "2022-04-09T17:37:55.227398",
     "exception": false,
     "start_time": "2022-04-09T17:37:55.204748",
     "status": "completed"
    },
    "tags": []
   },
   "source": [
    "# 3) Continue working with countries\n",
    "\n",
    "In the tutorial, we focused on cleaning up inconsistencies in the \"Country\" column.  Run the code cell below to view the list of unique values that we ended with."
   ]
  },
  {
   "cell_type": "code",
   "execution_count": 9,
   "id": "ff38967b",
   "metadata": {
    "execution": {
     "iopub.execute_input": "2022-04-09T17:37:55.278546Z",
     "iopub.status.busy": "2022-04-09T17:37:55.277898Z",
     "iopub.status.idle": "2022-04-09T17:37:55.284797Z",
     "shell.execute_reply": "2022-04-09T17:37:55.285264Z",
     "shell.execute_reply.started": "2022-04-09T17:35:12.054013Z"
    },
    "papermill": {
     "duration": 0.03345,
     "end_time": "2022-04-09T17:37:55.285477",
     "exception": false,
     "start_time": "2022-04-09T17:37:55.252027",
     "status": "completed"
    },
    "tags": []
   },
   "outputs": [
    {
     "data": {
      "text/plain": [
       "array(['australia', 'austria', 'canada', 'china', 'finland', 'france',\n",
       "       'germany', 'greece', 'hongkong', 'ireland', 'italy', 'japan',\n",
       "       'macau', 'malaysia', 'mauritius', 'netherland', 'new zealand',\n",
       "       'norway', 'pakistan', 'portugal', 'russian federation',\n",
       "       'saudi arabia', 'scotland', 'singapore', 'south korea', 'spain',\n",
       "       'sweden', 'thailand', 'turkey', 'uk', 'urbana', 'usa', 'usofa'],\n",
       "      dtype=object)"
      ]
     },
     "execution_count": 9,
     "metadata": {},
     "output_type": "execute_result"
    }
   ],
   "source": [
    "# get all the unique values in the 'City' column\n",
    "countries = professors['Country'].unique()\n",
    "\n",
    "# sort them alphabetically and then take a closer look\n",
    "countries.sort()\n",
    "countries"
   ]
  },
  {
   "cell_type": "markdown",
   "id": "36583946",
   "metadata": {
    "papermill": {
     "duration": 0.022927,
     "end_time": "2022-04-09T17:37:55.331895",
     "exception": false,
     "start_time": "2022-04-09T17:37:55.308968",
     "status": "completed"
    },
    "tags": []
   },
   "source": [
    "Take another look at the \"Country\" column and see if there's any more data cleaning we need to do.\n",
    "\n",
    "It looks like 'usa' and 'usofa' should be the same country.  Correct the \"Country\" column in the dataframe to replace 'usofa' with 'usa'.\n",
    "\n",
    "**Use the most recent version of the DataFrame (with the whitespaces at the beginning and end of cells removed) from question 2.**"
   ]
  },
  {
   "cell_type": "code",
   "execution_count": 10,
   "id": "000eebfe",
   "metadata": {
    "execution": {
     "iopub.execute_input": "2022-04-09T17:37:55.387524Z",
     "iopub.status.busy": "2022-04-09T17:37:55.386716Z",
     "iopub.status.idle": "2022-04-09T17:37:55.397608Z",
     "shell.execute_reply": "2022-04-09T17:37:55.397025Z",
     "shell.execute_reply.started": "2022-04-09T17:35:33.044697Z"
    },
    "papermill": {
     "duration": 0.04074,
     "end_time": "2022-04-09T17:37:55.397762",
     "exception": false,
     "start_time": "2022-04-09T17:37:55.357022",
     "status": "completed"
    },
    "tags": []
   },
   "outputs": [
    {
     "name": "stdout",
     "output_type": "stream",
     "text": [
      "All done!\n"
     ]
    },
    {
     "data": {
      "application/javascript": [
       "parent.postMessage({\"jupyterEvent\": \"custom.exercise_interaction\", \"data\": {\"outcomeType\": 1, \"valueTowardsCompletion\": 0.3333333333333333, \"interactionType\": 1, \"questionType\": 1, \"questionId\": \"3_WorkingWithCities\", \"learnToolsVersion\": \"0.3.4\", \"failureMessage\": \"\", \"exceptionClass\": \"\", \"trace\": \"\"}}, \"*\")"
      ],
      "text/plain": [
       "<IPython.core.display.Javascript object>"
      ]
     },
     "metadata": {},
     "output_type": "display_data"
    },
    {
     "data": {
      "text/markdown": [
       "<span style=\"color:#33cc33\">Correct</span>"
      ],
      "text/plain": [
       "Correct"
      ]
     },
     "metadata": {},
     "output_type": "display_data"
    }
   ],
   "source": [
    "# TODO: Your code here!\n",
    "matches = fuzzywuzzy.process.extract(\"usa\", countries, limit=10, scorer=fuzzywuzzy.fuzz.token_sort_ratio)\n",
    "replace_matches_in_column(df=professors, column='Country', string_to_match=\"usa\", min_ratio=70)\n",
    "\n",
    "# Check your answer\n",
    "q3.check()"
   ]
  },
  {
   "cell_type": "code",
   "execution_count": 11,
   "id": "329047a7",
   "metadata": {
    "execution": {
     "iopub.execute_input": "2022-04-09T17:37:55.456752Z",
     "iopub.status.busy": "2022-04-09T17:37:55.453736Z",
     "iopub.status.idle": "2022-04-09T17:37:55.466280Z",
     "shell.execute_reply": "2022-04-09T17:37:55.466847Z"
    },
    "papermill": {
     "duration": 0.043246,
     "end_time": "2022-04-09T17:37:55.467038",
     "exception": false,
     "start_time": "2022-04-09T17:37:55.423792",
     "status": "completed"
    },
    "tags": []
   },
   "outputs": [
    {
     "data": {
      "application/javascript": [
       "parent.postMessage({\"jupyterEvent\": \"custom.exercise_interaction\", \"data\": {\"interactionType\": 2, \"questionType\": 1, \"questionId\": \"3_WorkingWithCities\", \"learnToolsVersion\": \"0.3.4\", \"valueTowardsCompletion\": 0.0, \"failureMessage\": \"\", \"exceptionClass\": \"\", \"trace\": \"\", \"outcomeType\": 4}}, \"*\")"
      ],
      "text/plain": [
       "<IPython.core.display.Javascript object>"
      ]
     },
     "metadata": {},
     "output_type": "display_data"
    },
    {
     "data": {
      "text/markdown": [
       "<span style=\"color:#3366cc\">Hint:</span> Use the `replace_matches_in_column()` function defined above."
      ],
      "text/plain": [
       "Hint: Use the `replace_matches_in_column()` function defined above."
      ]
     },
     "metadata": {},
     "output_type": "display_data"
    },
    {
     "data": {
      "application/javascript": [
       "parent.postMessage({\"jupyterEvent\": \"custom.exercise_interaction\", \"data\": {\"interactionType\": 3, \"questionType\": 1, \"questionId\": \"3_WorkingWithCities\", \"learnToolsVersion\": \"0.3.4\", \"valueTowardsCompletion\": 0.0, \"failureMessage\": \"\", \"exceptionClass\": \"\", \"trace\": \"\", \"outcomeType\": 4}}, \"*\")"
      ],
      "text/plain": [
       "<IPython.core.display.Javascript object>"
      ]
     },
     "metadata": {},
     "output_type": "display_data"
    },
    {
     "data": {
      "text/markdown": [
       "<span style=\"color:#33cc99\">Solution:</span> \n",
       "```python\n",
       "matches = fuzzywuzzy.process.extract(\"usa\", countries, limit=10, scorer=fuzzywuzzy.fuzz.token_sort_ratio)\n",
       "replace_matches_in_column(df=professors, column='Country', string_to_match=\"usa\", min_ratio=70)\n",
       "\n",
       "```"
      ],
      "text/plain": [
       "Solution: \n",
       "```python\n",
       "matches = fuzzywuzzy.process.extract(\"usa\", countries, limit=10, scorer=fuzzywuzzy.fuzz.token_sort_ratio)\n",
       "replace_matches_in_column(df=professors, column='Country', string_to_match=\"usa\", min_ratio=70)\n",
       "\n",
       "```"
      ]
     },
     "metadata": {},
     "output_type": "display_data"
    }
   ],
   "source": [
    "# Lines below will give you a hint or solution code\n",
    "q3.hint()\n",
    "q3.solution()"
   ]
  },
  {
   "cell_type": "markdown",
   "id": "8b4fd940",
   "metadata": {
    "papermill": {
     "duration": 0.028192,
     "end_time": "2022-04-09T17:37:55.523064",
     "exception": false,
     "start_time": "2022-04-09T17:37:55.494872",
     "status": "completed"
    },
    "tags": []
   },
   "source": [
    "# Congratulations!\n",
    "\n",
    "Congratulations for completing the **Data Cleaning** course on Kaggle Learn!\n",
    "\n",
    "To practice your new skills, you're encouraged to download and investigate some of [Kaggle's Datasets](https://www.kaggle.com/datasets)."
   ]
  },
  {
   "cell_type": "markdown",
   "id": "39afcf12",
   "metadata": {
    "papermill": {
     "duration": 0.027479,
     "end_time": "2022-04-09T17:37:55.579642",
     "exception": false,
     "start_time": "2022-04-09T17:37:55.552163",
     "status": "completed"
    },
    "tags": []
   },
   "source": [
    "---\n",
    "\n",
    "\n",
    "\n",
    "\n",
    "*Have questions or comments? Visit the [course discussion forum](https://www.kaggle.com/learn/data-cleaning/discussion) to chat with other learners.*"
   ]
  }
 ],
 "metadata": {
  "kernelspec": {
   "display_name": "Python 3",
   "language": "python",
   "name": "python3"
  },
  "language_info": {
   "codemirror_mode": {
    "name": "ipython",
    "version": 3
   },
   "file_extension": ".py",
   "mimetype": "text/x-python",
   "name": "python",
   "nbconvert_exporter": "python",
   "pygments_lexer": "ipython3",
   "version": "3.7.12"
  },
  "papermill": {
   "default_parameters": {},
   "duration": 13.840381,
   "end_time": "2022-04-09T17:37:56.419939",
   "environment_variables": {},
   "exception": null,
   "input_path": "__notebook__.ipynb",
   "output_path": "__notebook__.ipynb",
   "parameters": {},
   "start_time": "2022-04-09T17:37:42.579558",
   "version": "2.3.3"
  }
 },
 "nbformat": 4,
 "nbformat_minor": 5
}
