{
 "cells": [
  {
   "cell_type": "markdown",
   "id": "79c53381",
   "metadata": {
    "papermill": {
     "duration": 0.029777,
     "end_time": "2022-04-08T15:42:56.226142",
     "exception": false,
     "start_time": "2022-04-08T15:42:56.196365",
     "status": "completed"
    },
    "tags": []
   },
   "source": [
    "**This notebook is an exercise in the [Data Cleaning](https://www.kaggle.com/learn/data-cleaning) course.  You can reference the tutorial at [this link](https://www.kaggle.com/alexisbcook/handling-missing-values).**\n",
    "\n",
    "---\n"
   ]
  },
  {
   "cell_type": "markdown",
   "id": "f881659b",
   "metadata": {
    "papermill": {
     "duration": 0.021486,
     "end_time": "2022-04-08T15:42:56.272951",
     "exception": false,
     "start_time": "2022-04-08T15:42:56.251465",
     "status": "completed"
    },
    "tags": []
   },
   "source": [
    "In this exercise, you'll apply what you learned in the **Handling missing values** tutorial.\n",
    "\n",
    "# Setup\n",
    "\n",
    "The questions below will give you feedback on your work. Run the following cell to set up the feedback system."
   ]
  },
  {
   "cell_type": "code",
   "execution_count": 1,
   "id": "c26bd831",
   "metadata": {
    "execution": {
     "iopub.execute_input": "2022-04-08T15:42:56.321733Z",
     "iopub.status.busy": "2022-04-08T15:42:56.320688Z",
     "iopub.status.idle": "2022-04-08T15:43:00.279195Z",
     "shell.execute_reply": "2022-04-08T15:43:00.278517Z",
     "shell.execute_reply.started": "2022-04-08T15:14:21.310017Z"
    },
    "papermill": {
     "duration": 3.98442,
     "end_time": "2022-04-08T15:43:00.279369",
     "exception": false,
     "start_time": "2022-04-08T15:42:56.294949",
     "status": "completed"
    },
    "tags": []
   },
   "outputs": [
    {
     "name": "stderr",
     "output_type": "stream",
     "text": [
      "/opt/conda/lib/python3.7/site-packages/ipykernel_launcher.py:3: DtypeWarning: Columns (22,32) have mixed types.Specify dtype option on import or set low_memory=False.\n",
      "  This is separate from the ipykernel package so we can avoid doing imports until\n"
     ]
    },
    {
     "name": "stdout",
     "output_type": "stream",
     "text": [
      "Setup Complete\n"
     ]
    }
   ],
   "source": [
    "from learntools.core import binder\n",
    "binder.bind(globals())\n",
    "from learntools.data_cleaning.ex1 import *\n",
    "print(\"Setup Complete\")"
   ]
  },
  {
   "cell_type": "markdown",
   "id": "48a34a82",
   "metadata": {
    "papermill": {
     "duration": 0.018776,
     "end_time": "2022-04-08T15:43:00.318502",
     "exception": false,
     "start_time": "2022-04-08T15:43:00.299726",
     "status": "completed"
    },
    "tags": []
   },
   "source": [
    "# 1) Take a first look at the data\n",
    "\n",
    "Run the next code cell to load in the libraries and dataset you'll use to complete the exercise."
   ]
  },
  {
   "cell_type": "code",
   "execution_count": 2,
   "id": "d1add711",
   "metadata": {
    "execution": {
     "iopub.execute_input": "2022-04-08T15:43:00.366333Z",
     "iopub.status.busy": "2022-04-08T15:43:00.365586Z",
     "iopub.status.idle": "2022-04-08T15:43:02.132622Z",
     "shell.execute_reply": "2022-04-08T15:43:02.133131Z",
     "shell.execute_reply.started": "2022-04-08T15:15:21.729929Z"
    },
    "papermill": {
     "duration": 1.794916,
     "end_time": "2022-04-08T15:43:02.133332",
     "exception": false,
     "start_time": "2022-04-08T15:43:00.338416",
     "status": "completed"
    },
    "tags": []
   },
   "outputs": [
    {
     "name": "stderr",
     "output_type": "stream",
     "text": [
      "/opt/conda/lib/python3.7/site-packages/IPython/core/interactiveshell.py:3457: DtypeWarning: Columns (22,32) have mixed types.Specify dtype option on import or set low_memory=False.\n",
      "  exec(code_obj, self.user_global_ns, self.user_ns)\n"
     ]
    }
   ],
   "source": [
    "# modules we'll use\n",
    "import pandas as pd\n",
    "import numpy as np\n",
    "\n",
    "# read in all our data\n",
    "sf_permits = pd.read_csv(\"../input/building-permit-applications-data/Building_Permits.csv\")\n",
    "\n",
    "# set seed for reproducibility\n",
    "np.random.seed(0) "
   ]
  },
  {
   "cell_type": "markdown",
   "id": "96299c79",
   "metadata": {
    "papermill": {
     "duration": 0.019189,
     "end_time": "2022-04-08T15:43:02.172416",
     "exception": false,
     "start_time": "2022-04-08T15:43:02.153227",
     "status": "completed"
    },
    "tags": []
   },
   "source": [
    "Use the code cell below to print the first five rows of the `sf_permits` DataFrame."
   ]
  },
  {
   "cell_type": "code",
   "execution_count": 3,
   "id": "d733b582",
   "metadata": {
    "execution": {
     "iopub.execute_input": "2022-04-08T15:43:02.215580Z",
     "iopub.status.busy": "2022-04-08T15:43:02.214946Z",
     "iopub.status.idle": "2022-04-08T15:43:02.446494Z",
     "shell.execute_reply": "2022-04-08T15:43:02.445894Z",
     "shell.execute_reply.started": "2022-04-08T15:19:00.110210Z"
    },
    "papermill": {
     "duration": 0.254051,
     "end_time": "2022-04-08T15:43:02.446642",
     "exception": false,
     "start_time": "2022-04-08T15:43:02.192591",
     "status": "completed"
    },
    "tags": []
   },
   "outputs": [],
   "source": [
    "# TODO: Your code here!\n",
    "sf_permits.head()\n",
    "missing_values= sf_permits.isnull().sum()"
   ]
  },
  {
   "cell_type": "markdown",
   "id": "6435504f",
   "metadata": {
    "papermill": {
     "duration": 0.019235,
     "end_time": "2022-04-08T15:43:02.485650",
     "exception": false,
     "start_time": "2022-04-08T15:43:02.466415",
     "status": "completed"
    },
    "tags": []
   },
   "source": [
    "Does the dataset have any missing values?  Once you have an answer, run the code cell below to get credit for your work."
   ]
  },
  {
   "cell_type": "code",
   "execution_count": 4,
   "id": "5b18c313",
   "metadata": {
    "execution": {
     "iopub.execute_input": "2022-04-08T15:43:02.532623Z",
     "iopub.status.busy": "2022-04-08T15:43:02.531984Z",
     "iopub.status.idle": "2022-04-08T15:43:02.539290Z",
     "shell.execute_reply": "2022-04-08T15:43:02.539721Z",
     "shell.execute_reply.started": "2022-04-08T15:16:37.820217Z"
    },
    "papermill": {
     "duration": 0.032381,
     "end_time": "2022-04-08T15:43:02.539879",
     "exception": false,
     "start_time": "2022-04-08T15:43:02.507498",
     "status": "completed"
    },
    "tags": []
   },
   "outputs": [
    {
     "data": {
      "application/javascript": [
       "parent.postMessage({\"jupyterEvent\": \"custom.exercise_interaction\", \"data\": {\"outcomeType\": 1, \"valueTowardsCompletion\": 0.16666666666666666, \"interactionType\": 1, \"questionType\": 4, \"questionId\": \"1_TakeFirstLook\", \"learnToolsVersion\": \"0.3.4\", \"failureMessage\": \"\", \"exceptionClass\": \"\", \"trace\": \"\"}}, \"*\")"
      ],
      "text/plain": [
       "<IPython.core.display.Javascript object>"
      ]
     },
     "metadata": {},
     "output_type": "display_data"
    },
    {
     "data": {
      "text/markdown": [
       "<span style=\"color:#33cc33\">Correct:</span> \n",
       "\n",
       "The first five rows of the data does show that several columns have missing values.  You can see this in the \"Street Number Suffix\", \"Proposed Construction Type\" and \"Site Permit\" columns, among others."
      ],
      "text/plain": [
       "Correct: \n",
       "\n",
       "The first five rows of the data does show that several columns have missing values.  You can see this in the \"Street Number Suffix\", \"Proposed Construction Type\" and \"Site Permit\" columns, among others."
      ]
     },
     "metadata": {},
     "output_type": "display_data"
    }
   ],
   "source": [
    "# Check your answer (Run this code cell to receive credit!)\n",
    "q1.check()"
   ]
  },
  {
   "cell_type": "code",
   "execution_count": 5,
   "id": "75c30e84",
   "metadata": {
    "execution": {
     "iopub.execute_input": "2022-04-08T15:43:02.584816Z",
     "iopub.status.busy": "2022-04-08T15:43:02.584228Z",
     "iopub.status.idle": "2022-04-08T15:43:02.587569Z",
     "shell.execute_reply": "2022-04-08T15:43:02.587036Z",
     "shell.execute_reply.started": "2022-04-08T15:16:55.678694Z"
    },
    "papermill": {
     "duration": 0.02732,
     "end_time": "2022-04-08T15:43:02.587713",
     "exception": false,
     "start_time": "2022-04-08T15:43:02.560393",
     "status": "completed"
    },
    "tags": []
   },
   "outputs": [],
   "source": [
    "# Line below will give you a hint\n",
    "#q1.hint()"
   ]
  },
  {
   "cell_type": "markdown",
   "id": "5dc5bca6",
   "metadata": {
    "papermill": {
     "duration": 0.020016,
     "end_time": "2022-04-08T15:43:02.628316",
     "exception": false,
     "start_time": "2022-04-08T15:43:02.608300",
     "status": "completed"
    },
    "tags": []
   },
   "source": [
    "# 2) How many missing data points do we have?\n",
    "\n",
    "What percentage of the values in the dataset are missing?  Your answer should be a number between 0 and 100.  (If 1/4 of the values in the dataset are missing, the answer is 25.)"
   ]
  },
  {
   "cell_type": "code",
   "execution_count": 6,
   "id": "79d12fd7",
   "metadata": {
    "execution": {
     "iopub.execute_input": "2022-04-08T15:43:02.675193Z",
     "iopub.status.busy": "2022-04-08T15:43:02.674576Z",
     "iopub.status.idle": "2022-04-08T15:43:02.678960Z",
     "shell.execute_reply": "2022-04-08T15:43:02.678429Z",
     "shell.execute_reply.started": "2022-04-08T15:21:03.807465Z"
    },
    "papermill": {
     "duration": 0.030276,
     "end_time": "2022-04-08T15:43:02.679133",
     "exception": false,
     "start_time": "2022-04-08T15:43:02.648857",
     "status": "completed"
    },
    "tags": []
   },
   "outputs": [
    {
     "data": {
      "application/javascript": [
       "parent.postMessage({\"jupyterEvent\": \"custom.exercise_interaction\", \"data\": {\"outcomeType\": 1, \"valueTowardsCompletion\": 0.16666666666666666, \"interactionType\": 1, \"questionType\": 1, \"questionId\": \"2_PercentMissingValues\", \"learnToolsVersion\": \"0.3.4\", \"failureMessage\": \"\", \"exceptionClass\": \"\", \"trace\": \"\"}}, \"*\")"
      ],
      "text/plain": [
       "<IPython.core.display.Javascript object>"
      ]
     },
     "metadata": {},
     "output_type": "display_data"
    },
    {
     "data": {
      "text/markdown": [
       "<span style=\"color:#33cc33\">Correct</span>"
      ],
      "text/plain": [
       "Correct"
      ]
     },
     "metadata": {},
     "output_type": "display_data"
    }
   ],
   "source": [
    "# TODO: Your code here!\n",
    "total_cells=np.product(sf_permits.shape)\n",
    "total_missing= missing_values.sum()\n",
    "percent_missing = (total_missing/total_cells)*100\n",
    "\n",
    "# Check your answer\n",
    "q2.check()"
   ]
  },
  {
   "cell_type": "code",
   "execution_count": 7,
   "id": "4d041210",
   "metadata": {
    "execution": {
     "iopub.execute_input": "2022-04-08T15:43:02.727284Z",
     "iopub.status.busy": "2022-04-08T15:43:02.726628Z",
     "iopub.status.idle": "2022-04-08T15:43:02.729444Z",
     "shell.execute_reply": "2022-04-08T15:43:02.728956Z",
     "shell.execute_reply.started": "2022-04-08T15:22:24.757220Z"
    },
    "papermill": {
     "duration": 0.028141,
     "end_time": "2022-04-08T15:43:02.729573",
     "exception": false,
     "start_time": "2022-04-08T15:43:02.701432",
     "status": "completed"
    },
    "tags": []
   },
   "outputs": [],
   "source": [
    "# Lines below will give you a hint or solution code\n",
    "#q2.hint()\n",
    "#q2.solution()"
   ]
  },
  {
   "cell_type": "markdown",
   "id": "1b1b4f44",
   "metadata": {
    "papermill": {
     "duration": 0.021879,
     "end_time": "2022-04-08T15:43:02.773130",
     "exception": false,
     "start_time": "2022-04-08T15:43:02.751251",
     "status": "completed"
    },
    "tags": []
   },
   "source": [
    "# 3) Figure out why the data is missing\n",
    "\n",
    "Look at the columns **\"Street Number Suffix\"** and **\"Zipcode\"** from the [San Francisco Building Permits dataset](https://www.kaggle.com/aparnashastry/building-permit-applications-data). Both of these contain missing values. \n",
    "- Which, if either, are missing because they don't exist? \n",
    "- Which, if either, are missing because they weren't recorded?  \n",
    "\n",
    "Once you have an answer, run the code cell below."
   ]
  },
  {
   "cell_type": "code",
   "execution_count": 8,
   "id": "b833ccb5",
   "metadata": {
    "execution": {
     "iopub.execute_input": "2022-04-08T15:43:02.822330Z",
     "iopub.status.busy": "2022-04-08T15:43:02.821144Z",
     "iopub.status.idle": "2022-04-08T15:43:02.827754Z",
     "shell.execute_reply": "2022-04-08T15:43:02.827261Z",
     "shell.execute_reply.started": "2022-04-08T15:22:31.708665Z"
    },
    "papermill": {
     "duration": 0.032579,
     "end_time": "2022-04-08T15:43:02.827900",
     "exception": false,
     "start_time": "2022-04-08T15:43:02.795321",
     "status": "completed"
    },
    "tags": []
   },
   "outputs": [
    {
     "data": {
      "application/javascript": [
       "parent.postMessage({\"jupyterEvent\": \"custom.exercise_interaction\", \"data\": {\"outcomeType\": 1, \"valueTowardsCompletion\": 0.16666666666666666, \"interactionType\": 1, \"questionType\": 4, \"questionId\": \"3_WhyDataMissing\", \"learnToolsVersion\": \"0.3.4\", \"failureMessage\": \"\", \"exceptionClass\": \"\", \"trace\": \"\"}}, \"*\")"
      ],
      "text/plain": [
       "<IPython.core.display.Javascript object>"
      ]
     },
     "metadata": {},
     "output_type": "display_data"
    },
    {
     "data": {
      "text/markdown": [
       "<span style=\"color:#33cc33\">Correct:</span> \n",
       "\n",
       "If a value in the \"Street Number Suffix\" column is missing, it is likely because it does not exist. If a value in the \"Zipcode\" column is missing, it was not recorded."
      ],
      "text/plain": [
       "Correct: \n",
       "\n",
       "If a value in the \"Street Number Suffix\" column is missing, it is likely because it does not exist. If a value in the \"Zipcode\" column is missing, it was not recorded."
      ]
     },
     "metadata": {},
     "output_type": "display_data"
    }
   ],
   "source": [
    "# Check your answer (Run this code cell to receive credit!)\n",
    "q3.check()"
   ]
  },
  {
   "cell_type": "code",
   "execution_count": 9,
   "id": "35318876",
   "metadata": {
    "execution": {
     "iopub.execute_input": "2022-04-08T15:43:02.876607Z",
     "iopub.status.busy": "2022-04-08T15:43:02.876028Z",
     "iopub.status.idle": "2022-04-08T15:43:02.878356Z",
     "shell.execute_reply": "2022-04-08T15:43:02.878748Z",
     "shell.execute_reply.started": "2022-04-08T15:23:47.740411Z"
    },
    "papermill": {
     "duration": 0.028478,
     "end_time": "2022-04-08T15:43:02.878920",
     "exception": false,
     "start_time": "2022-04-08T15:43:02.850442",
     "status": "completed"
    },
    "tags": []
   },
   "outputs": [],
   "source": [
    "# Line below will give you a hint\n",
    "#q3.hint()"
   ]
  },
  {
   "cell_type": "markdown",
   "id": "c9d90acd",
   "metadata": {
    "papermill": {
     "duration": 0.022475,
     "end_time": "2022-04-08T15:43:02.924514",
     "exception": false,
     "start_time": "2022-04-08T15:43:02.902039",
     "status": "completed"
    },
    "tags": []
   },
   "source": [
    "# 4) Drop missing values: rows\n",
    "\n",
    "If you removed all of the rows of `sf_permits` with missing values, how many rows are left?\n",
    "\n",
    "**Note**: Do not change the value of `sf_permits` when checking this.  "
   ]
  },
  {
   "cell_type": "code",
   "execution_count": 10,
   "id": "0fa323ed",
   "metadata": {
    "execution": {
     "iopub.execute_input": "2022-04-08T15:43:02.977242Z",
     "iopub.status.busy": "2022-04-08T15:43:02.976171Z",
     "iopub.status.idle": "2022-04-08T15:43:03.205906Z",
     "shell.execute_reply": "2022-04-08T15:43:03.205393Z",
     "shell.execute_reply.started": "2022-04-08T15:25:06.281600Z"
    },
    "papermill": {
     "duration": 0.258698,
     "end_time": "2022-04-08T15:43:03.206087",
     "exception": false,
     "start_time": "2022-04-08T15:43:02.947389",
     "status": "completed"
    },
    "tags": []
   },
   "outputs": [],
   "source": [
    "# TODO: Your code here!\n",
    "dropped_data = sf_permits.dropna()"
   ]
  },
  {
   "cell_type": "markdown",
   "id": "be609806",
   "metadata": {
    "papermill": {
     "duration": 0.022194,
     "end_time": "2022-04-08T15:43:03.251071",
     "exception": false,
     "start_time": "2022-04-08T15:43:03.228877",
     "status": "completed"
    },
    "tags": []
   },
   "source": [
    "Once you have an answer, run the code cell below."
   ]
  },
  {
   "cell_type": "code",
   "execution_count": 11,
   "id": "40e5e83c",
   "metadata": {
    "execution": {
     "iopub.execute_input": "2022-04-08T15:43:03.302680Z",
     "iopub.status.busy": "2022-04-08T15:43:03.301704Z",
     "iopub.status.idle": "2022-04-08T15:43:03.306476Z",
     "shell.execute_reply": "2022-04-08T15:43:03.306904Z",
     "shell.execute_reply.started": "2022-04-08T15:25:10.230352Z"
    },
    "papermill": {
     "duration": 0.033304,
     "end_time": "2022-04-08T15:43:03.307082",
     "exception": false,
     "start_time": "2022-04-08T15:43:03.273778",
     "status": "completed"
    },
    "tags": []
   },
   "outputs": [
    {
     "data": {
      "application/javascript": [
       "parent.postMessage({\"jupyterEvent\": \"custom.exercise_interaction\", \"data\": {\"outcomeType\": 1, \"valueTowardsCompletion\": 0.16666666666666666, \"interactionType\": 1, \"questionType\": 4, \"questionId\": \"4_DropMissingRows\", \"learnToolsVersion\": \"0.3.4\", \"failureMessage\": \"\", \"exceptionClass\": \"\", \"trace\": \"\"}}, \"*\")"
      ],
      "text/plain": [
       "<IPython.core.display.Javascript object>"
      ]
     },
     "metadata": {},
     "output_type": "display_data"
    },
    {
     "data": {
      "text/markdown": [
       "<span style=\"color:#33cc33\">Correct:</span> \n",
       "\n",
       "There are no rows remaining in the dataset!"
      ],
      "text/plain": [
       "Correct: \n",
       "\n",
       "There are no rows remaining in the dataset!"
      ]
     },
     "metadata": {},
     "output_type": "display_data"
    }
   ],
   "source": [
    "# Check your answer (Run this code cell to receive credit!)\n",
    "q4.check()"
   ]
  },
  {
   "cell_type": "code",
   "execution_count": 12,
   "id": "46e69a43",
   "metadata": {
    "execution": {
     "iopub.execute_input": "2022-04-08T15:43:03.360127Z",
     "iopub.status.busy": "2022-04-08T15:43:03.359292Z",
     "iopub.status.idle": "2022-04-08T15:43:03.362106Z",
     "shell.execute_reply": "2022-04-08T15:43:03.362502Z",
     "shell.execute_reply.started": "2022-04-08T15:25:14.068959Z"
    },
    "papermill": {
     "duration": 0.031739,
     "end_time": "2022-04-08T15:43:03.362673",
     "exception": false,
     "start_time": "2022-04-08T15:43:03.330934",
     "status": "completed"
    },
    "tags": []
   },
   "outputs": [],
   "source": [
    "# Line below will give you a hint\n",
    "#q4.hint()"
   ]
  },
  {
   "cell_type": "markdown",
   "id": "452cb248",
   "metadata": {
    "papermill": {
     "duration": 0.023948,
     "end_time": "2022-04-08T15:43:03.410041",
     "exception": false,
     "start_time": "2022-04-08T15:43:03.386093",
     "status": "completed"
    },
    "tags": []
   },
   "source": [
    "# 5) Drop missing values: columns\n",
    "\n",
    "Now try removing all the columns with empty values.  \n",
    "- Create a new DataFrame called `sf_permits_with_na_dropped` that has all of the columns with empty values removed.  \n",
    "- How many columns were removed from the original `sf_permits` DataFrame? Use this number to set the value of the `dropped_columns` variable below."
   ]
  },
  {
   "cell_type": "code",
   "execution_count": 13,
   "id": "9a0171a9",
   "metadata": {
    "execution": {
     "iopub.execute_input": "2022-04-08T15:43:03.463624Z",
     "iopub.status.busy": "2022-04-08T15:43:03.462930Z",
     "iopub.status.idle": "2022-04-08T15:43:03.706066Z",
     "shell.execute_reply": "2022-04-08T15:43:03.705549Z",
     "shell.execute_reply.started": "2022-04-08T15:39:47.009608Z"
    },
    "papermill": {
     "duration": 0.272534,
     "end_time": "2022-04-08T15:43:03.706206",
     "exception": false,
     "start_time": "2022-04-08T15:43:03.433672",
     "status": "completed"
    },
    "tags": []
   },
   "outputs": [
    {
     "data": {
      "application/javascript": [
       "parent.postMessage({\"jupyterEvent\": \"custom.exercise_interaction\", \"data\": {\"outcomeType\": 1, \"valueTowardsCompletion\": 0.16666666666666666, \"interactionType\": 1, \"questionType\": 1, \"questionId\": \"5_DropMissingCols\", \"learnToolsVersion\": \"0.3.4\", \"failureMessage\": \"\", \"exceptionClass\": \"\", \"trace\": \"\"}}, \"*\")"
      ],
      "text/plain": [
       "<IPython.core.display.Javascript object>"
      ]
     },
     "metadata": {},
     "output_type": "display_data"
    },
    {
     "data": {
      "text/markdown": [
       "<span style=\"color:#33cc33\">Correct</span>"
      ],
      "text/plain": [
       "Correct"
      ]
     },
     "metadata": {},
     "output_type": "display_data"
    }
   ],
   "source": [
    "# TODO: Your code here\n",
    "sf_permits_with_na_dropped = sf_permits.dropna(axis=1)\n",
    "cols = sf_permits.shape[1]\n",
    "cols_dropped = sf_permits_with_na_dropped.shape[1]\n",
    "dropped_columns = cols-cols_dropped\n",
    "# Check your answer\n",
    "q5.check()"
   ]
  },
  {
   "cell_type": "code",
   "execution_count": 14,
   "id": "764bc36c",
   "metadata": {
    "execution": {
     "iopub.execute_input": "2022-04-08T15:43:03.761765Z",
     "iopub.status.busy": "2022-04-08T15:43:03.761148Z",
     "iopub.status.idle": "2022-04-08T15:43:03.766642Z",
     "shell.execute_reply": "2022-04-08T15:43:03.767101Z",
     "shell.execute_reply.started": "2022-04-08T15:38:08.469408Z"
    },
    "papermill": {
     "duration": 0.034767,
     "end_time": "2022-04-08T15:43:03.767279",
     "exception": false,
     "start_time": "2022-04-08T15:43:03.732512",
     "status": "completed"
    },
    "tags": []
   },
   "outputs": [
    {
     "data": {
      "application/javascript": [
       "parent.postMessage({\"jupyterEvent\": \"custom.exercise_interaction\", \"data\": {\"interactionType\": 3, \"questionType\": 1, \"questionId\": \"5_DropMissingCols\", \"learnToolsVersion\": \"0.3.4\", \"valueTowardsCompletion\": 0.0, \"failureMessage\": \"\", \"exceptionClass\": \"\", \"trace\": \"\", \"outcomeType\": 4}}, \"*\")"
      ],
      "text/plain": [
       "<IPython.core.display.Javascript object>"
      ]
     },
     "metadata": {},
     "output_type": "display_data"
    },
    {
     "data": {
      "text/markdown": [
       "<span style=\"color:#33cc99\">Solution:</span> \n",
       "```python\n",
       "# remove all columns with at least one missing value\n",
       "sf_permits_with_na_dropped = sf_permits.dropna(axis=1)\n",
       "\n",
       "# calculate number of dropped columns\n",
       "cols_in_original_dataset = sf_permits.shape[1]\n",
       "cols_in_na_dropped = sf_permits_with_na_dropped.shape[1]\n",
       "dropped_columns = cols_in_original_dataset - cols_in_na_dropped\n",
       "\n",
       "```"
      ],
      "text/plain": [
       "Solution: \n",
       "```python\n",
       "# remove all columns with at least one missing value\n",
       "sf_permits_with_na_dropped = sf_permits.dropna(axis=1)\n",
       "\n",
       "# calculate number of dropped columns\n",
       "cols_in_original_dataset = sf_permits.shape[1]\n",
       "cols_in_na_dropped = sf_permits_with_na_dropped.shape[1]\n",
       "dropped_columns = cols_in_original_dataset - cols_in_na_dropped\n",
       "\n",
       "```"
      ]
     },
     "metadata": {},
     "output_type": "display_data"
    }
   ],
   "source": [
    "# Lines below will give you a hint or solution code\n",
    "#q5.hint()\n",
    "q5.solution()"
   ]
  },
  {
   "cell_type": "markdown",
   "id": "539988e4",
   "metadata": {
    "papermill": {
     "duration": 0.026249,
     "end_time": "2022-04-08T15:43:03.820302",
     "exception": false,
     "start_time": "2022-04-08T15:43:03.794053",
     "status": "completed"
    },
    "tags": []
   },
   "source": [
    "# 6) Fill in missing values automatically\n",
    "\n",
    "Try replacing all the NaN's in the `sf_permits` data with the one that comes directly after it and then replacing any remaining NaN's with 0.  Set the result to a new DataFrame `sf_permits_with_na_imputed`."
   ]
  },
  {
   "cell_type": "code",
   "execution_count": 15,
   "id": "5b52d24d",
   "metadata": {
    "execution": {
     "iopub.execute_input": "2022-04-08T15:43:03.877825Z",
     "iopub.status.busy": "2022-04-08T15:43:03.877045Z",
     "iopub.status.idle": "2022-04-08T15:43:04.749939Z",
     "shell.execute_reply": "2022-04-08T15:43:04.750474Z",
     "shell.execute_reply.started": "2022-04-08T15:41:53.855174Z"
    },
    "papermill": {
     "duration": 0.904286,
     "end_time": "2022-04-08T15:43:04.750671",
     "exception": false,
     "start_time": "2022-04-08T15:43:03.846385",
     "status": "completed"
    },
    "tags": []
   },
   "outputs": [
    {
     "data": {
      "application/javascript": [
       "parent.postMessage({\"jupyterEvent\": \"custom.exercise_interaction\", \"data\": {\"outcomeType\": 1, \"valueTowardsCompletion\": 0.16666666666666666, \"interactionType\": 1, \"questionType\": 1, \"questionId\": \"6_ImputeAutomatically\", \"learnToolsVersion\": \"0.3.4\", \"failureMessage\": \"\", \"exceptionClass\": \"\", \"trace\": \"\"}}, \"*\")"
      ],
      "text/plain": [
       "<IPython.core.display.Javascript object>"
      ]
     },
     "metadata": {},
     "output_type": "display_data"
    },
    {
     "data": {
      "text/markdown": [
       "<span style=\"color:#33cc33\">Correct</span>"
      ],
      "text/plain": [
       "Correct"
      ]
     },
     "metadata": {},
     "output_type": "display_data"
    }
   ],
   "source": [
    "# TODO: Your code here\n",
    "sf_permits_with_na_imputed = sf_permits.fillna(method='bfill', axis=0).fillna(0)\n",
    "\n",
    "# Check your answer\n",
    "q6.check()"
   ]
  },
  {
   "cell_type": "code",
   "execution_count": null,
   "id": "58f2b915",
   "metadata": {
    "papermill": {
     "duration": 0.03025,
     "end_time": "2022-04-08T15:43:04.808477",
     "exception": false,
     "start_time": "2022-04-08T15:43:04.778227",
     "status": "completed"
    },
    "tags": []
   },
   "outputs": [],
   "source": []
  },
  {
   "cell_type": "code",
   "execution_count": 16,
   "id": "457b75f6",
   "metadata": {
    "execution": {
     "iopub.execute_input": "2022-04-08T15:43:04.872892Z",
     "iopub.status.busy": "2022-04-08T15:43:04.872135Z",
     "iopub.status.idle": "2022-04-08T15:43:04.882562Z",
     "shell.execute_reply": "2022-04-08T15:43:04.883126Z",
     "shell.execute_reply.started": "2022-04-08T15:41:11.346794Z"
    },
    "papermill": {
     "duration": 0.04298,
     "end_time": "2022-04-08T15:43:04.883309",
     "exception": false,
     "start_time": "2022-04-08T15:43:04.840329",
     "status": "completed"
    },
    "tags": []
   },
   "outputs": [
    {
     "data": {
      "application/javascript": [
       "parent.postMessage({\"jupyterEvent\": \"custom.exercise_interaction\", \"data\": {\"interactionType\": 2, \"questionType\": 1, \"questionId\": \"6_ImputeAutomatically\", \"learnToolsVersion\": \"0.3.4\", \"valueTowardsCompletion\": 0.0, \"failureMessage\": \"\", \"exceptionClass\": \"\", \"trace\": \"\", \"outcomeType\": 4}}, \"*\")"
      ],
      "text/plain": [
       "<IPython.core.display.Javascript object>"
      ]
     },
     "metadata": {},
     "output_type": "display_data"
    },
    {
     "data": {
      "text/markdown": [
       "<span style=\"color:#3366cc\">Hint:</span> Use the `.fillna()` method twice."
      ],
      "text/plain": [
       "Hint: Use the `.fillna()` method twice."
      ]
     },
     "metadata": {},
     "output_type": "display_data"
    },
    {
     "data": {
      "application/javascript": [
       "parent.postMessage({\"jupyterEvent\": \"custom.exercise_interaction\", \"data\": {\"interactionType\": 3, \"questionType\": 1, \"questionId\": \"6_ImputeAutomatically\", \"learnToolsVersion\": \"0.3.4\", \"valueTowardsCompletion\": 0.0, \"failureMessage\": \"\", \"exceptionClass\": \"\", \"trace\": \"\", \"outcomeType\": 4}}, \"*\")"
      ],
      "text/plain": [
       "<IPython.core.display.Javascript object>"
      ]
     },
     "metadata": {},
     "output_type": "display_data"
    },
    {
     "data": {
      "text/markdown": [
       "<span style=\"color:#33cc99\">Solution:</span> \n",
       "```python\n",
       "sf_permits_with_na_imputed = sf_permits.fillna(method='bfill', axis=0).fillna(0)\n",
       "\n",
       "```"
      ],
      "text/plain": [
       "Solution: \n",
       "```python\n",
       "sf_permits_with_na_imputed = sf_permits.fillna(method='bfill', axis=0).fillna(0)\n",
       "\n",
       "```"
      ]
     },
     "metadata": {},
     "output_type": "display_data"
    }
   ],
   "source": [
    "# Lines below will give you a hint or solution code\n",
    "q6.hint()\n",
    "q6.solution()"
   ]
  },
  {
   "cell_type": "markdown",
   "id": "e6355195",
   "metadata": {
    "papermill": {
     "duration": 0.029594,
     "end_time": "2022-04-08T15:43:04.941712",
     "exception": false,
     "start_time": "2022-04-08T15:43:04.912118",
     "status": "completed"
    },
    "tags": []
   },
   "source": [
    "# More practice\n",
    "\n",
    "If you're looking for more practice handling missing values:\n",
    "\n",
    "* Check out [this noteboook](https://www.kaggle.com/alexisbcook/missing-values) on handling missing values using scikit-learn's imputer. \n",
    "* Look back at the \"Zipcode\" column in the `sf_permits` dataset, which has some missing values. How would you go about figuring out what the actual zipcode of each address should be? (You might try using another dataset. You can search for datasets about San Fransisco on the [Datasets listing](https://www.kaggle.com/datasets).) \n",
    "\n",
    "# Keep going\n",
    "\n",
    "In the next lesson, learn how to [**apply scaling and normalization**](https://www.kaggle.com/alexisbcook/scaling-and-normalization) to transform your data."
   ]
  },
  {
   "cell_type": "markdown",
   "id": "dc1044cd",
   "metadata": {
    "papermill": {
     "duration": 0.030997,
     "end_time": "2022-04-08T15:43:05.003520",
     "exception": false,
     "start_time": "2022-04-08T15:43:04.972523",
     "status": "completed"
    },
    "tags": []
   },
   "source": [
    "---\n",
    "\n",
    "\n",
    "\n",
    "\n",
    "*Have questions or comments? Visit the [course discussion forum](https://www.kaggle.com/learn/data-cleaning/discussion) to chat with other learners.*"
   ]
  }
 ],
 "metadata": {
  "kernelspec": {
   "display_name": "Python 3",
   "language": "python",
   "name": "python3"
  },
  "language_info": {
   "codemirror_mode": {
    "name": "ipython",
    "version": 3
   },
   "file_extension": ".py",
   "mimetype": "text/x-python",
   "name": "python",
   "nbconvert_exporter": "python",
   "pygments_lexer": "ipython3",
   "version": "3.7.12"
  },
  "papermill": {
   "default_parameters": {},
   "duration": 19.068801,
   "end_time": "2022-04-08T15:43:05.849908",
   "environment_variables": {},
   "exception": null,
   "input_path": "__notebook__.ipynb",
   "output_path": "__notebook__.ipynb",
   "parameters": {},
   "start_time": "2022-04-08T15:42:46.781107",
   "version": "2.3.3"
  }
 },
 "nbformat": 4,
 "nbformat_minor": 5
}
