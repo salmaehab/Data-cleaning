{
 "cells": [
  {
   "cell_type": "markdown",
   "id": "f536f17e",
   "metadata": {
    "papermill": {
     "duration": 0.018546,
     "end_time": "2022-04-09T15:34:17.161780",
     "exception": false,
     "start_time": "2022-04-09T15:34:17.143234",
     "status": "completed"
    },
    "tags": []
   },
   "source": [
    "**This notebook is an exercise in the [Data Cleaning](https://www.kaggle.com/learn/data-cleaning) course.  You can reference the tutorial at [this link](https://www.kaggle.com/alexisbcook/character-encodings).**\n",
    "\n",
    "---\n"
   ]
  },
  {
   "cell_type": "markdown",
   "id": "96f6d00c",
   "metadata": {
    "papermill": {
     "duration": 0.016478,
     "end_time": "2022-04-09T15:34:17.195826",
     "exception": false,
     "start_time": "2022-04-09T15:34:17.179348",
     "status": "completed"
    },
    "tags": []
   },
   "source": [
    "In this exercise, you'll apply what you learned in the **Character encodings** tutorial.\n",
    "\n",
    "# Setup\n",
    "\n",
    "The questions below will give you feedback on your work. Run the following cell to set up the feedback system."
   ]
  },
  {
   "cell_type": "code",
   "execution_count": 1,
   "id": "eb153f47",
   "metadata": {
    "execution": {
     "iopub.execute_input": "2022-04-09T15:34:17.240993Z",
     "iopub.status.busy": "2022-04-09T15:34:17.240377Z",
     "iopub.status.idle": "2022-04-09T15:34:17.321525Z",
     "shell.execute_reply": "2022-04-09T15:34:17.322047Z",
     "shell.execute_reply.started": "2022-04-09T15:22:57.186258Z"
    },
    "papermill": {
     "duration": 0.109912,
     "end_time": "2022-04-09T15:34:17.322385",
     "exception": false,
     "start_time": "2022-04-09T15:34:17.212473",
     "status": "completed"
    },
    "tags": []
   },
   "outputs": [
    {
     "name": "stdout",
     "output_type": "stream",
     "text": [
      "Setup Complete\n"
     ]
    }
   ],
   "source": [
    "from learntools.core import binder\n",
    "binder.bind(globals())\n",
    "from learntools.data_cleaning.ex4 import *\n",
    "print(\"Setup Complete\")"
   ]
  },
  {
   "cell_type": "markdown",
   "id": "48211eb8",
   "metadata": {
    "papermill": {
     "duration": 0.016906,
     "end_time": "2022-04-09T15:34:17.356938",
     "exception": false,
     "start_time": "2022-04-09T15:34:17.340032",
     "status": "completed"
    },
    "tags": []
   },
   "source": [
    "# Get our environment set up\n",
    "\n",
    "The first thing we'll need to do is load in the libraries we'll be using."
   ]
  },
  {
   "cell_type": "code",
   "execution_count": 2,
   "id": "88a07863",
   "metadata": {
    "execution": {
     "iopub.execute_input": "2022-04-09T15:34:17.395800Z",
     "iopub.status.busy": "2022-04-09T15:34:17.395079Z",
     "iopub.status.idle": "2022-04-09T15:34:17.399694Z",
     "shell.execute_reply": "2022-04-09T15:34:17.400192Z",
     "shell.execute_reply.started": "2022-04-09T15:22:57.276992Z"
    },
    "papermill": {
     "duration": 0.026187,
     "end_time": "2022-04-09T15:34:17.400389",
     "exception": false,
     "start_time": "2022-04-09T15:34:17.374202",
     "status": "completed"
    },
    "tags": []
   },
   "outputs": [],
   "source": [
    "# modules we'll use\n",
    "import pandas as pd\n",
    "import numpy as np\n",
    "\n",
    "# helpful character encoding module\n",
    "import chardet\n",
    "\n",
    "# set seed for reproducibility\n",
    "np.random.seed(0)"
   ]
  },
  {
   "cell_type": "markdown",
   "id": "b084c80e",
   "metadata": {
    "papermill": {
     "duration": 0.017104,
     "end_time": "2022-04-09T15:34:17.434842",
     "exception": false,
     "start_time": "2022-04-09T15:34:17.417738",
     "status": "completed"
    },
    "tags": []
   },
   "source": [
    "# 1) What are encodings?\n",
    "\n",
    "You're working with a dataset composed of bytes.  Run the code cell below to print a sample entry."
   ]
  },
  {
   "cell_type": "code",
   "execution_count": 3,
   "id": "ee04e4f2",
   "metadata": {
    "execution": {
     "iopub.execute_input": "2022-04-09T15:34:17.477920Z",
     "iopub.status.busy": "2022-04-09T15:34:17.477206Z",
     "iopub.status.idle": "2022-04-09T15:34:17.480977Z",
     "shell.execute_reply": "2022-04-09T15:34:17.480343Z",
     "shell.execute_reply.started": "2022-04-09T15:22:59.624878Z"
    },
    "papermill": {
     "duration": 0.027942,
     "end_time": "2022-04-09T15:34:17.481119",
     "exception": false,
     "start_time": "2022-04-09T15:34:17.453177",
     "status": "completed"
    },
    "tags": []
   },
   "outputs": [
    {
     "name": "stdout",
     "output_type": "stream",
     "text": [
      "b'\\xa7A\\xa6n'\n",
      "data type: <class 'bytes'>\n"
     ]
    }
   ],
   "source": [
    "sample_entry = b'\\xa7A\\xa6n'\n",
    "print(sample_entry)\n",
    "print('data type:', type(sample_entry))"
   ]
  },
  {
   "cell_type": "markdown",
   "id": "fd97efe4",
   "metadata": {
    "papermill": {
     "duration": 0.017679,
     "end_time": "2022-04-09T15:34:17.516899",
     "exception": false,
     "start_time": "2022-04-09T15:34:17.499220",
     "status": "completed"
    },
    "tags": []
   },
   "source": [
    "You notice that it doesn't use the standard UTF-8 encoding. \n",
    "\n",
    "Use the next code cell to create a variable `new_entry` that changes the encoding from `\"big5-tw\"` to `\"utf-8\"`.  `new_entry` should have the bytes datatype."
   ]
  },
  {
   "cell_type": "code",
   "execution_count": 4,
   "id": "4540d3c3",
   "metadata": {
    "execution": {
     "iopub.execute_input": "2022-04-09T15:34:17.561605Z",
     "iopub.status.busy": "2022-04-09T15:34:17.560836Z",
     "iopub.status.idle": "2022-04-09T15:34:17.567982Z",
     "shell.execute_reply": "2022-04-09T15:34:17.567240Z",
     "shell.execute_reply.started": "2022-04-09T15:25:46.607133Z"
    },
    "papermill": {
     "duration": 0.033341,
     "end_time": "2022-04-09T15:34:17.568138",
     "exception": false,
     "start_time": "2022-04-09T15:34:17.534797",
     "status": "completed"
    },
    "tags": []
   },
   "outputs": [
    {
     "data": {
      "application/javascript": [
       "parent.postMessage({\"jupyterEvent\": \"custom.exercise_interaction\", \"data\": {\"outcomeType\": 1, \"valueTowardsCompletion\": 0.3333333333333333, \"interactionType\": 1, \"questionType\": 1, \"questionId\": \"1_EncodingsIntro\", \"learnToolsVersion\": \"0.3.4\", \"failureMessage\": \"\", \"exceptionClass\": \"\", \"trace\": \"\"}}, \"*\")"
      ],
      "text/plain": [
       "<IPython.core.display.Javascript object>"
      ]
     },
     "metadata": {},
     "output_type": "display_data"
    },
    {
     "data": {
      "text/markdown": [
       "<span style=\"color:#33cc33\">Correct</span>"
      ],
      "text/plain": [
       "Correct"
      ]
     },
     "metadata": {},
     "output_type": "display_data"
    }
   ],
   "source": [
    "before = sample_entry.decode(\"big5-tw\")\n",
    "new_entry= before.encode()\n",
    "\n",
    "# Check your answer\n",
    "q1.check()"
   ]
  },
  {
   "cell_type": "code",
   "execution_count": 5,
   "id": "5be35308",
   "metadata": {
    "execution": {
     "iopub.execute_input": "2022-04-09T15:34:17.612725Z",
     "iopub.status.busy": "2022-04-09T15:34:17.611871Z",
     "iopub.status.idle": "2022-04-09T15:34:17.622061Z",
     "shell.execute_reply": "2022-04-09T15:34:17.621540Z",
     "shell.execute_reply.started": "2022-04-09T15:25:07.884609Z"
    },
    "papermill": {
     "duration": 0.034992,
     "end_time": "2022-04-09T15:34:17.622205",
     "exception": false,
     "start_time": "2022-04-09T15:34:17.587213",
     "status": "completed"
    },
    "tags": []
   },
   "outputs": [
    {
     "data": {
      "application/javascript": [
       "parent.postMessage({\"jupyterEvent\": \"custom.exercise_interaction\", \"data\": {\"interactionType\": 2, \"questionType\": 1, \"questionId\": \"1_EncodingsIntro\", \"learnToolsVersion\": \"0.3.4\", \"valueTowardsCompletion\": 0.0, \"failureMessage\": \"\", \"exceptionClass\": \"\", \"trace\": \"\", \"outcomeType\": 4}}, \"*\")"
      ],
      "text/plain": [
       "<IPython.core.display.Javascript object>"
      ]
     },
     "metadata": {},
     "output_type": "display_data"
    },
    {
     "data": {
      "text/markdown": [
       "<span style=\"color:#3366cc\">Hint:</span> Try using `.decode()` to get the string, then `.encode()` to get the bytes representation, encoded in UTF-8."
      ],
      "text/plain": [
       "Hint: Try using `.decode()` to get the string, then `.encode()` to get the bytes representation, encoded in UTF-8."
      ]
     },
     "metadata": {},
     "output_type": "display_data"
    },
    {
     "data": {
      "application/javascript": [
       "parent.postMessage({\"jupyterEvent\": \"custom.exercise_interaction\", \"data\": {\"interactionType\": 3, \"questionType\": 1, \"questionId\": \"1_EncodingsIntro\", \"learnToolsVersion\": \"0.3.4\", \"valueTowardsCompletion\": 0.0, \"failureMessage\": \"\", \"exceptionClass\": \"\", \"trace\": \"\", \"outcomeType\": 4}}, \"*\")"
      ],
      "text/plain": [
       "<IPython.core.display.Javascript object>"
      ]
     },
     "metadata": {},
     "output_type": "display_data"
    },
    {
     "data": {
      "text/markdown": [
       "<span style=\"color:#33cc99\">Solution:</span> \n",
       "```python\n",
       "before = sample_entry.decode(\"big5-tw\")\n",
       "new_entry = before.encode()\n",
       "\n",
       "```"
      ],
      "text/plain": [
       "Solution: \n",
       "```python\n",
       "before = sample_entry.decode(\"big5-tw\")\n",
       "new_entry = before.encode()\n",
       "\n",
       "```"
      ]
     },
     "metadata": {},
     "output_type": "display_data"
    }
   ],
   "source": [
    "# Lines below will give you a hint or solution code\n",
    "q1.hint()\n",
    "q1.solution()"
   ]
  },
  {
   "cell_type": "markdown",
   "id": "f956755d",
   "metadata": {
    "papermill": {
     "duration": 0.021789,
     "end_time": "2022-04-09T15:34:17.665925",
     "exception": false,
     "start_time": "2022-04-09T15:34:17.644136",
     "status": "completed"
    },
    "tags": []
   },
   "source": [
    "# 2) Reading in files with encoding problems\n",
    "\n",
    "Use the code cell below to read in this file at path `\"../input/fatal-police-shootings-in-the-us/PoliceKillingsUS.csv\"`.  \n",
    "\n",
    "Figure out what the correct encoding should be and read in the file to a DataFrame `police_killings`."
   ]
  },
  {
   "cell_type": "code",
   "execution_count": 6,
   "id": "2b196335",
   "metadata": {
    "execution": {
     "iopub.execute_input": "2022-04-09T15:34:17.715736Z",
     "iopub.status.busy": "2022-04-09T15:34:17.714632Z",
     "iopub.status.idle": "2022-04-09T15:34:17.742071Z",
     "shell.execute_reply": "2022-04-09T15:34:17.741495Z",
     "shell.execute_reply.started": "2022-04-09T15:31:48.299052Z"
    },
    "papermill": {
     "duration": 0.054575,
     "end_time": "2022-04-09T15:34:17.742248",
     "exception": false,
     "start_time": "2022-04-09T15:34:17.687673",
     "status": "completed"
    },
    "tags": []
   },
   "outputs": [
    {
     "data": {
      "application/javascript": [
       "parent.postMessage({\"jupyterEvent\": \"custom.exercise_interaction\", \"data\": {\"outcomeType\": 1, \"valueTowardsCompletion\": 0.3333333333333333, \"interactionType\": 1, \"questionType\": 1, \"questionId\": \"2_ReadIn\", \"learnToolsVersion\": \"0.3.4\", \"failureMessage\": \"\", \"exceptionClass\": \"\", \"trace\": \"\"}}, \"*\")"
      ],
      "text/plain": [
       "<IPython.core.display.Javascript object>"
      ]
     },
     "metadata": {},
     "output_type": "display_data"
    },
    {
     "data": {
      "text/markdown": [
       "<span style=\"color:#33cc33\">Correct</span>"
      ],
      "text/plain": [
       "Correct"
      ]
     },
     "metadata": {},
     "output_type": "display_data"
    }
   ],
   "source": [
    "# TODO: Load in the DataFrame correctly.\n",
    "\n",
    "police_killings =  pd.read_csv(\"../input/fatal-police-shootings-in-the-us/PoliceKillingsUS.csv\", encoding ='Windows-1252')\n",
    "police_killings.head()\n",
    "# Check your answer\n",
    "q2.check()"
   ]
  },
  {
   "cell_type": "markdown",
   "id": "1f6b7f5a",
   "metadata": {
    "papermill": {
     "duration": 0.022551,
     "end_time": "2022-04-09T15:34:17.787775",
     "exception": false,
     "start_time": "2022-04-09T15:34:17.765224",
     "status": "completed"
    },
    "tags": []
   },
   "source": [
    "Feel free to use any additional code cells for supplemental work.  To get credit for finishing this question, you'll need to run `q2.check()` and get a result of **Correct**."
   ]
  },
  {
   "cell_type": "code",
   "execution_count": 7,
   "id": "094b20a5",
   "metadata": {
    "execution": {
     "iopub.execute_input": "2022-04-09T15:34:17.839151Z",
     "iopub.status.busy": "2022-04-09T15:34:17.838030Z",
     "iopub.status.idle": "2022-04-09T15:34:17.839987Z",
     "shell.execute_reply": "2022-04-09T15:34:17.840624Z"
    },
    "papermill": {
     "duration": 0.030256,
     "end_time": "2022-04-09T15:34:17.840824",
     "exception": false,
     "start_time": "2022-04-09T15:34:17.810568",
     "status": "completed"
    },
    "tags": []
   },
   "outputs": [],
   "source": [
    "# (Optional) Use this code cell for any additional work."
   ]
  },
  {
   "cell_type": "code",
   "execution_count": 8,
   "id": "5bc63f79",
   "metadata": {
    "execution": {
     "iopub.execute_input": "2022-04-09T15:34:17.891169Z",
     "iopub.status.busy": "2022-04-09T15:34:17.890218Z",
     "iopub.status.idle": "2022-04-09T15:34:17.893563Z",
     "shell.execute_reply": "2022-04-09T15:34:17.894047Z",
     "shell.execute_reply.started": "2022-04-09T15:30:53.640335Z"
    },
    "papermill": {
     "duration": 0.030536,
     "end_time": "2022-04-09T15:34:17.894292",
     "exception": false,
     "start_time": "2022-04-09T15:34:17.863756",
     "status": "completed"
    },
    "tags": []
   },
   "outputs": [],
   "source": [
    "# Lines below will give you a hint or solution code\n",
    "#q2.hint()\n",
    "#q2.solution()"
   ]
  },
  {
   "cell_type": "markdown",
   "id": "69e92f51",
   "metadata": {
    "papermill": {
     "duration": 0.022802,
     "end_time": "2022-04-09T15:34:17.941609",
     "exception": false,
     "start_time": "2022-04-09T15:34:17.918807",
     "status": "completed"
    },
    "tags": []
   },
   "source": [
    "# 3) Saving your files with UTF-8 encoding\n",
    "\n",
    "Save a version of the police killings dataset to CSV with UTF-8 encoding.  Your answer will be marked correct after saving this file.  \n",
    "\n",
    "Note: When using the `to_csv()` method, supply only the name of the file (e.g., `\"my_file.csv\"`).  This saves the file at the filepath `\"/kaggle/working/my_file.csv\"`."
   ]
  },
  {
   "cell_type": "code",
   "execution_count": 9,
   "id": "a1cad4f9",
   "metadata": {
    "execution": {
     "iopub.execute_input": "2022-04-09T15:34:17.995680Z",
     "iopub.status.busy": "2022-04-09T15:34:17.994971Z",
     "iopub.status.idle": "2022-04-09T15:34:18.041703Z",
     "shell.execute_reply": "2022-04-09T15:34:18.042240Z",
     "shell.execute_reply.started": "2022-04-09T15:32:37.425916Z"
    },
    "papermill": {
     "duration": 0.076352,
     "end_time": "2022-04-09T15:34:18.042473",
     "exception": false,
     "start_time": "2022-04-09T15:34:17.966121",
     "status": "completed"
    },
    "tags": []
   },
   "outputs": [
    {
     "data": {
      "application/javascript": [
       "parent.postMessage({\"jupyterEvent\": \"custom.exercise_interaction\", \"data\": {\"outcomeType\": 1, \"valueTowardsCompletion\": 0.3333333333333333, \"interactionType\": 1, \"questionType\": 2, \"questionId\": \"3_SaveCSV\", \"learnToolsVersion\": \"0.3.4\", \"failureMessage\": \"\", \"exceptionClass\": \"\", \"trace\": \"\"}}, \"*\")"
      ],
      "text/plain": [
       "<IPython.core.display.Javascript object>"
      ]
     },
     "metadata": {},
     "output_type": "display_data"
    },
    {
     "data": {
      "text/markdown": [
       "<span style=\"color:#33cc33\">Correct</span>"
      ],
      "text/plain": [
       "Correct"
      ]
     },
     "metadata": {},
     "output_type": "display_data"
    }
   ],
   "source": [
    "# TODO: Save the police killings dataset to CSV\n",
    "\n",
    "police_killings.to_csv(\"myfile.csv\")\n",
    "# Check your answer\n",
    "q3.check()"
   ]
  },
  {
   "cell_type": "code",
   "execution_count": 10,
   "id": "f2bb2fd3",
   "metadata": {
    "execution": {
     "iopub.execute_input": "2022-04-09T15:34:18.096528Z",
     "iopub.status.busy": "2022-04-09T15:34:18.095469Z",
     "iopub.status.idle": "2022-04-09T15:34:18.098971Z",
     "shell.execute_reply": "2022-04-09T15:34:18.099629Z"
    },
    "papermill": {
     "duration": 0.032842,
     "end_time": "2022-04-09T15:34:18.099833",
     "exception": false,
     "start_time": "2022-04-09T15:34:18.066991",
     "status": "completed"
    },
    "tags": []
   },
   "outputs": [],
   "source": [
    "# Lines below will give you a hint or solution code\n",
    "#q3.hint()\n",
    "#q3.solution()"
   ]
  },
  {
   "cell_type": "markdown",
   "id": "546d507f",
   "metadata": {
    "papermill": {
     "duration": 0.024077,
     "end_time": "2022-04-09T15:34:18.148259",
     "exception": false,
     "start_time": "2022-04-09T15:34:18.124182",
     "status": "completed"
    },
    "tags": []
   },
   "source": [
    "# (Optional) More practice\n",
    "\n",
    "Check out [this dataset of files in different character encodings](https://www.kaggle.com/rtatman/character-encoding-examples). Can you read in all the files with their original encodings and them save them out as UTF-8 files?\n",
    "\n",
    "If you have a file that's in UTF-8 but has just a couple of weird-looking characters in it, you can try out the [ftfy module](https://ftfy.readthedocs.io/en/latest/#) and see if it helps. \n",
    "\n",
    "# Keep going\n",
    "\n",
    "In the final lesson, learn how to [**clean up inconsistent text entries**](https://www.kaggle.com/alexisbcook/inconsistent-data-entry) in your dataset."
   ]
  },
  {
   "cell_type": "markdown",
   "id": "2bef26cd",
   "metadata": {
    "papermill": {
     "duration": 0.023906,
     "end_time": "2022-04-09T15:34:18.198421",
     "exception": false,
     "start_time": "2022-04-09T15:34:18.174515",
     "status": "completed"
    },
    "tags": []
   },
   "source": [
    "---\n",
    "\n",
    "\n",
    "\n",
    "\n",
    "*Have questions or comments? Visit the [course discussion forum](https://www.kaggle.com/learn/data-cleaning/discussion) to chat with other learners.*"
   ]
  }
 ],
 "metadata": {
  "kernelspec": {
   "display_name": "Python 3",
   "language": "python",
   "name": "python3"
  },
  "language_info": {
   "codemirror_mode": {
    "name": "ipython",
    "version": 3
   },
   "file_extension": ".py",
   "mimetype": "text/x-python",
   "name": "python",
   "nbconvert_exporter": "python",
   "pygments_lexer": "ipython3",
   "version": "3.7.12"
  },
  "papermill": {
   "default_parameters": {},
   "duration": 12.830222,
   "end_time": "2022-04-09T15:34:18.934624",
   "environment_variables": {},
   "exception": null,
   "input_path": "__notebook__.ipynb",
   "output_path": "__notebook__.ipynb",
   "parameters": {},
   "start_time": "2022-04-09T15:34:06.104402",
   "version": "2.3.3"
  }
 },
 "nbformat": 4,
 "nbformat_minor": 5
}
